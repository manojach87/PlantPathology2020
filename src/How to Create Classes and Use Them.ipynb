{
 "cells": [
  {
   "cell_type": "code",
   "execution_count": 25,
   "metadata": {},
   "outputs": [],
   "source": [
    "colors={0:\"red\",1:\"green\",2:\"yellow\",3:\"blue\"}\n",
    "highwayStartLoc={0:0,1:13,2:26,3:39}\n",
    "highwayHomeStartLoc={0:51,1:58,2:64,3:70}\n",
    "\n",
    "class gatti:\n",
    "    color=-1\n",
    "    loc=-1\n",
    "    gattiCount=0\n",
    "    inSafeZone=True\n",
    "    safeZones=[-1,0,8,13,21,26,34,39,47]\n",
    "    homeZones=[51,52,53,54,55,56]\n",
    "\n",
    "    def __init__(self,color):\n",
    "        self.color=color\n",
    "        self.loc=-1\n",
    "        gatti.gattiCount+=1\n",
    "\n",
    "    def isInSafeZone(self):\n",
    "        if(self.loc in self.safeZones):\n",
    "            return(True)\n",
    "        else:\n",
    "            return(False)\n",
    "    \n",
    "    def move(self,numMoves):\n",
    "        if(numMoves==6 & self.loc==-1):\n",
    "            #print(\"In Here\")\n",
    "            self.loc==0\n",
    "        else:\n",
    "            self.loc=self.loc+numMoves\n",
    "        inSafeZone=self.isInSafeZone()    \n",
    "        \n",
    "class world:\n",
    "    totalLocations=75\n",
    "    highwayLocation=-1\n",
    "    #safeHouse=[0,8,13,21,26,34,39,47]\n",
    "    safeZones=[0,8,13,21,26,34,39,47]\n",
    "    redGatti     =[gatti(0),gatti(0),gatti(0),gatti(0)]\n",
    "    greenGatti   =[gatti(1),gatti(1),gatti(1),gatti(1)]\n",
    "    yellowGatti  =[gatti(2),gatti(2),gatti(2),gatti(2)]\n",
    "    blueGatti    =[gatti(3),gatti(3),gatti(3),gatti(3)]\n",
    "    #highwayCells=[{} for]\n",
    "\n",
    "    def __init__(self):\n",
    "        self.highwayCells=dict({})\n",
    "        for i in range(76):\n",
    "            self.highwayCells.update({i:set({})})\n",
    "        \n",
    "        #print(self.highwayCells)\n",
    "\n",
    "    def putGatti(self,gatti):\n",
    "        loc=gatti.loc+highwayStartLoc[gatti.color]\n",
    "        self.highwayCells[loc].add(gatti)\n",
    "    \n",
    "    def getGattiLoc(self,gatti):\n",
    "        pass\n",
    "    \n",
    "    def getOtherGattiInLoc(self,abLoc, color):\n",
    "        gattiInLoc=set()\n",
    "        for gatti in self.highwayCells[abLoc]:\n",
    "            if(gatti.color != color):\n",
    "                gattiInLoc.add(gatti)\n",
    "        return gattiInLoc\n",
    "    \n",
    "    def removeOtherGatti(self,gatti):\n",
    "        #print(\"Here\")\n",
    "        #print(gatti.loc>-1)\n",
    "        #print(gatti.loc not in self.safeZones)\n",
    "        if(gatti.loc>-1 & (gatti.loc not in self.safeZones)):\n",
    "            \n",
    "            abLoc=gatti.loc+highwayStartLoc[gatti.color]\n",
    "\n",
    "            for otherGatti in self.getOtherGattiInLoc(abLoc, gatti.color):\n",
    "                print('{} gatti sending {} color gatti {} back to start from location {}'.format(colors[gatti.color],colors[otherGatti.color], otherGatti,abLoc))\n",
    "                self.highwayCells[abLoc].discard(otherGatti)\n",
    "                otherGatti.loc=-1\n",
    "            \n",
    "    \n",
    "    def moveGatti(self,gatti,numMoves):\n",
    "        loc=gatti.loc+highwayStartLoc[gatti.color]\n",
    "\n",
    "        if(loc!=-1):\n",
    "            self.highwayCells[loc].discard(gatti)\n",
    "\n",
    "        gatti.move(numMoves)\n",
    "        loc=gatti.loc+highwayStartLoc[gatti.color]\n",
    "        self.highwayCells[loc].add(gatti)\n",
    "        \n",
    "        self.removeOtherGatti(gatti)\n",
    "        \n",
    "\n",
    "\n",
    "    \n",
    "\n",
    "    "
   ]
  },
  {
   "cell_type": "code",
   "execution_count": 2,
   "metadata": {},
   "outputs": [
    {
     "data": {
      "text/plain": [
       "-1"
      ]
     },
     "execution_count": 2,
     "metadata": {},
     "output_type": "execute_result"
    }
   ],
   "source": [
    "gatti(1).loc"
   ]
  },
  {
   "cell_type": "code",
   "execution_count": 3,
   "metadata": {},
   "outputs": [],
   "source": [
    "w1=world()\n",
    "#w1.highwayCells"
   ]
  },
  {
   "cell_type": "code",
   "execution_count": 4,
   "metadata": {
    "collapsed": true
   },
   "outputs": [
    {
     "data": {
      "text/plain": [
       "{0: set(),\n",
       " 1: set(),\n",
       " 2: set(),\n",
       " 3: set(),\n",
       " 4: set(),\n",
       " 5: {<__main__.gatti at 0x1c72e5249c8>, <__main__.gatti at 0x1c72e524ac8>},\n",
       " 6: set(),\n",
       " 7: set(),\n",
       " 8: set(),\n",
       " 9: set(),\n",
       " 10: set(),\n",
       " 11: set(),\n",
       " 12: set(),\n",
       " 13: set(),\n",
       " 14: set(),\n",
       " 15: set(),\n",
       " 16: set(),\n",
       " 17: set(),\n",
       " 18: {<__main__.gatti at 0x1c72e524d88>},\n",
       " 19: set(),\n",
       " 20: set(),\n",
       " 21: set(),\n",
       " 22: set(),\n",
       " 23: set(),\n",
       " 24: set(),\n",
       " 25: set(),\n",
       " 26: set(),\n",
       " 27: set(),\n",
       " 28: set(),\n",
       " 29: set(),\n",
       " 30: set(),\n",
       " 31: set(),\n",
       " 32: set(),\n",
       " 33: set(),\n",
       " 34: set(),\n",
       " 35: set(),\n",
       " 36: set(),\n",
       " 37: set(),\n",
       " 38: set(),\n",
       " 39: set(),\n",
       " 40: set(),\n",
       " 41: set(),\n",
       " 42: set(),\n",
       " 43: set(),\n",
       " 44: set(),\n",
       " 45: set(),\n",
       " 46: set(),\n",
       " 47: set(),\n",
       " 48: set(),\n",
       " 49: set(),\n",
       " 50: set(),\n",
       " 51: set(),\n",
       " 52: set(),\n",
       " 53: set(),\n",
       " 54: set(),\n",
       " 55: set(),\n",
       " 56: set(),\n",
       " 57: set(),\n",
       " 58: set(),\n",
       " 59: set(),\n",
       " 60: set(),\n",
       " 61: set(),\n",
       " 62: set(),\n",
       " 63: set(),\n",
       " 64: set(),\n",
       " 65: set(),\n",
       " 66: set(),\n",
       " 67: set(),\n",
       " 68: set(),\n",
       " 69: set(),\n",
       " 70: set(),\n",
       " 71: set(),\n",
       " 72: set(),\n",
       " 73: set(),\n",
       " 74: set(),\n",
       " 75: set()}"
      ]
     },
     "execution_count": 4,
     "metadata": {},
     "output_type": "execute_result"
    }
   ],
   "source": [
    "\n",
    "#print(w1.redGatti[1].loc+highwayStartLoc[w1.redGatti[1].color])\n",
    "w1.moveGatti(w1.greenGatti[1],6)\n",
    "w1.moveGatti(w1.redGatti[1],6)\n",
    "w1.moveGatti(w1.redGatti[2],6)\n",
    "w1.highwayCells"
   ]
  },
  {
   "cell_type": "code",
   "execution_count": 5,
   "metadata": {
    "collapsed": true
   },
   "outputs": [
    {
     "data": {
      "text/plain": [
       "{0: set(),\n",
       " 1: set(),\n",
       " 2: set(),\n",
       " 3: set(),\n",
       " 4: set(),\n",
       " 5: set(),\n",
       " 6: set(),\n",
       " 7: set(),\n",
       " 8: set(),\n",
       " 9: set(),\n",
       " 10: set(),\n",
       " 11: set(),\n",
       " 12: {<__main__.gatti at 0x1c72e5249c8>, <__main__.gatti at 0x1c72e524ac8>},\n",
       " 13: set(),\n",
       " 14: set(),\n",
       " 15: set(),\n",
       " 16: set(),\n",
       " 17: set(),\n",
       " 18: {<__main__.gatti at 0x1c72e524d88>},\n",
       " 19: set(),\n",
       " 20: set(),\n",
       " 21: set(),\n",
       " 22: set(),\n",
       " 23: set(),\n",
       " 24: set(),\n",
       " 25: set(),\n",
       " 26: set(),\n",
       " 27: set(),\n",
       " 28: set(),\n",
       " 29: set(),\n",
       " 30: set(),\n",
       " 31: set(),\n",
       " 32: set(),\n",
       " 33: set(),\n",
       " 34: set(),\n",
       " 35: set(),\n",
       " 36: set(),\n",
       " 37: set(),\n",
       " 38: set(),\n",
       " 39: set(),\n",
       " 40: set(),\n",
       " 41: set(),\n",
       " 42: set(),\n",
       " 43: set(),\n",
       " 44: set(),\n",
       " 45: set(),\n",
       " 46: set(),\n",
       " 47: set(),\n",
       " 48: set(),\n",
       " 49: set(),\n",
       " 50: set(),\n",
       " 51: set(),\n",
       " 52: set(),\n",
       " 53: set(),\n",
       " 54: set(),\n",
       " 55: set(),\n",
       " 56: set(),\n",
       " 57: set(),\n",
       " 58: set(),\n",
       " 59: set(),\n",
       " 60: set(),\n",
       " 61: set(),\n",
       " 62: set(),\n",
       " 63: set(),\n",
       " 64: set(),\n",
       " 65: set(),\n",
       " 66: set(),\n",
       " 67: set(),\n",
       " 68: set(),\n",
       " 69: set(),\n",
       " 70: set(),\n",
       " 71: set(),\n",
       " 72: set(),\n",
       " 73: set(),\n",
       " 74: set(),\n",
       " 75: set()}"
      ]
     },
     "execution_count": 5,
     "metadata": {},
     "output_type": "execute_result"
    }
   ],
   "source": [
    "\n",
    "w1.moveGatti(w1.redGatti[1],7)\n",
    "w1.moveGatti(w1.redGatti[2],7)\n",
    "w1.highwayCells\n"
   ]
  },
  {
   "cell_type": "code",
   "execution_count": 8,
   "metadata": {
    "collapsed": true
   },
   "outputs": [
    {
     "data": {
      "text/plain": [
       "{0: set(),\n",
       " 1: set(),\n",
       " 2: set(),\n",
       " 3: set(),\n",
       " 4: set(),\n",
       " 5: set(),\n",
       " 6: set(),\n",
       " 7: set(),\n",
       " 8: set(),\n",
       " 9: set(),\n",
       " 10: set(),\n",
       " 11: set(),\n",
       " 12: set(),\n",
       " 13: set(),\n",
       " 14: set(),\n",
       " 15: set(),\n",
       " 16: set(),\n",
       " 17: set(),\n",
       " 18: set(),\n",
       " 19: set(),\n",
       " 20: set(),\n",
       " 21: set(),\n",
       " 22: set(),\n",
       " 23: set(),\n",
       " 24: {<__main__.gatti at 0x1c72e5249c8>, <__main__.gatti at 0x1c72e524ac8>},\n",
       " 25: set(),\n",
       " 26: set(),\n",
       " 27: set(),\n",
       " 28: set(),\n",
       " 29: set(),\n",
       " 30: set(),\n",
       " 31: set(),\n",
       " 32: set(),\n",
       " 33: set(),\n",
       " 34: set(),\n",
       " 35: set(),\n",
       " 36: set(),\n",
       " 37: set(),\n",
       " 38: set(),\n",
       " 39: set(),\n",
       " 40: set(),\n",
       " 41: set(),\n",
       " 42: set(),\n",
       " 43: set(),\n",
       " 44: set(),\n",
       " 45: set(),\n",
       " 46: set(),\n",
       " 47: set(),\n",
       " 48: set(),\n",
       " 49: set(),\n",
       " 50: set(),\n",
       " 51: set(),\n",
       " 52: set(),\n",
       " 53: set(),\n",
       " 54: set(),\n",
       " 55: set(),\n",
       " 56: set(),\n",
       " 57: set(),\n",
       " 58: set(),\n",
       " 59: set(),\n",
       " 60: set(),\n",
       " 61: set(),\n",
       " 62: set(),\n",
       " 63: set(),\n",
       " 64: set(),\n",
       " 65: set(),\n",
       " 66: set(),\n",
       " 67: set(),\n",
       " 68: set(),\n",
       " 69: set(),\n",
       " 70: set(),\n",
       " 71: set(),\n",
       " 72: set(),\n",
       " 73: set(),\n",
       " 74: set(),\n",
       " 75: set()}"
      ]
     },
     "execution_count": 8,
     "metadata": {},
     "output_type": "execute_result"
    }
   ],
   "source": [
    "w1.moveGatti(w1.redGatti[1],6)\n",
    "w1.moveGatti(w1.redGatti[2],6)\n",
    "w1.highwayCells\n",
    "#w1.moveGatti(w1.greenGatti[1],3)\n",
    "#w1.moveGatti(w1.redGatti[1],3)\n",
    "\n",
    "#w1.highwayCells[w1.redGatti[1].loc+highwayStartLoc[w1.redGatti[1].color]]\n",
    "#w1.highwayCells\n"
   ]
  },
  {
   "cell_type": "code",
   "execution_count": 18,
   "metadata": {},
   "outputs": [
    {
     "data": {
      "text/plain": [
       "{<__main__.gatti at 0x1c72e5249c8>, <__main__.gatti at 0x1c72e524ac8>}"
      ]
     },
     "execution_count": 18,
     "metadata": {},
     "output_type": "execute_result"
    }
   ],
   "source": [
    "w1.getOtherGattiInLoc(24, 3)"
   ]
  },
  {
   "cell_type": "code",
   "execution_count": 80,
   "metadata": {
    "collapsed": true
   },
   "outputs": [
    {
     "name": "stdout",
     "output_type": "stream",
     "text": [
      "18\n",
      "True\n",
      "True\n"
     ]
    },
    {
     "data": {
      "text/plain": [
       "{0: set(),\n",
       " 1: set(),\n",
       " 2: set(),\n",
       " 3: set(),\n",
       " 4: set(),\n",
       " 5: set(),\n",
       " 6: set(),\n",
       " 7: set(),\n",
       " 8: set(),\n",
       " 9: set(),\n",
       " 10: set(),\n",
       " 11: set(),\n",
       " 12: set(),\n",
       " 13: set(),\n",
       " 14: set(),\n",
       " 15: set(),\n",
       " 16: set(),\n",
       " 17: set(),\n",
       " 18: {<__main__.gatti at 0x20274b25708>, <__main__.gatti at 0x20274b29408>},\n",
       " 19: set(),\n",
       " 20: set(),\n",
       " 21: set(),\n",
       " 22: set(),\n",
       " 23: set(),\n",
       " 24: {<__main__.gatti at 0x20274b2c208>},\n",
       " 25: set(),\n",
       " 26: set(),\n",
       " 27: set(),\n",
       " 28: set(),\n",
       " 29: set(),\n",
       " 30: set(),\n",
       " 31: set(),\n",
       " 32: set(),\n",
       " 33: set(),\n",
       " 34: set(),\n",
       " 35: set(),\n",
       " 36: set(),\n",
       " 37: set(),\n",
       " 38: set(),\n",
       " 39: set(),\n",
       " 40: set(),\n",
       " 41: set(),\n",
       " 42: set(),\n",
       " 43: set(),\n",
       " 44: set(),\n",
       " 45: set(),\n",
       " 46: set(),\n",
       " 47: set(),\n",
       " 48: set(),\n",
       " 49: set(),\n",
       " 50: set(),\n",
       " 51: set(),\n",
       " 52: set(),\n",
       " 53: set(),\n",
       " 54: set(),\n",
       " 55: set(),\n",
       " 56: set(),\n",
       " 57: set(),\n",
       " 58: set(),\n",
       " 59: set(),\n",
       " 60: set(),\n",
       " 61: set(),\n",
       " 62: set(),\n",
       " 63: set(),\n",
       " 64: set(),\n",
       " 65: set(),\n",
       " 66: set(),\n",
       " 67: set(),\n",
       " 68: set(),\n",
       " 69: set(),\n",
       " 70: set(),\n",
       " 71: set(),\n",
       " 72: set(),\n",
       " 73: set(),\n",
       " 74: set(),\n",
       " 75: set()}"
      ]
     },
     "execution_count": 80,
     "metadata": {},
     "output_type": "execute_result"
    }
   ],
   "source": [
    "print(w1.redGatti[1].loc)\n",
    "w1.removeOtherGatti(w1.greenGatti[1])\n",
    "w1.highwayCells"
   ]
  },
  {
   "cell_type": "code",
   "execution_count": 12,
   "metadata": {},
   "outputs": [
    {
     "data": {
      "text/plain": [
       "21"
      ]
     },
     "execution_count": 12,
     "metadata": {},
     "output_type": "execute_result"
    }
   ],
   "source": [
    "w1.redGatti[1].loc"
   ]
  },
  {
   "cell_type": "code",
   "execution_count": 28,
   "metadata": {},
   "outputs": [
    {
     "ename": "IndentationError",
     "evalue": "expected an indented block (<ipython-input-28-2ab1851ce3c9>, line 44)",
     "output_type": "error",
     "traceback": [
      "\u001b[1;36m  File \u001b[1;32m\"<ipython-input-28-2ab1851ce3c9>\"\u001b[1;36m, line \u001b[1;32m44\u001b[0m\n\u001b[1;33m    i=0\u001b[0m\n\u001b[1;37m    ^\u001b[0m\n\u001b[1;31mIndentationError\u001b[0m\u001b[1;31m:\u001b[0m expected an indented block\n"
     ]
    }
   ],
   "source": [
    "colors={0:\"red\",1:\"green\",2:\"yellow\",3:\"blue\"}\n",
    "highwayStartLoc={0:0,1:13,2:26,3:39}\n",
    "highwayHomeStartLoc={0:51,1:58,2:64,3:70}\n",
    "\n",
    "class gatti:\n",
    "    color=-1\n",
    "    loc=-1\n",
    "    gattiId=0\n",
    "    gattiCount=0\n",
    "    inSafeZone=True\n",
    "    safeZones=[-1,0,8,13,21,26,34,39,47]\n",
    "    homeZones=[51,52,53,54,55,56]\n",
    "\n",
    "    def __init__(self,color):\n",
    "        self.color=color\n",
    "        self.loc=-1\n",
    "        #self.gattiCount = gatti.gattiCount\n",
    "        #gatti.gattiCount+=1\n",
    "        gatti.gattiId+=1\n",
    "        self.gattiId=gatti.gattiId\n",
    "\n",
    "    def isInSafeZone(self):\n",
    "        if(self.loc in self.safeZones):\n",
    "            return(True)\n",
    "        else:\n",
    "            return(False)\n",
    "    \n",
    "    def move(self,numMoves):\n",
    "        if(numMoves==6 & self.loc==-1):\n",
    "            #print(\"In Here\")\n",
    "            self.loc==0\n",
    "        else:\n",
    "            self.loc=self.loc+numMoves\n",
    "        inSafeZone=self.isInSafeZone()\n",
    "\n",
    "class startZone: \n",
    "    # This the class for the 4 start Zones i.e. for all the colors\n",
    "    # 4 Gatti for each color\n",
    "    items=0\n",
    "    color=-1\n",
    "    #gattis=dict({0:set(),1:set(),2:set(),3:set()})\n",
    "    gattis=set()\n",
    "    for color in colors:\n",
    "    i=0\n",
    "    for i in range(4):\n",
    "        startZone.gattis.add(gatti(color))\n",
    "    \n",
    "    startZoneCount=0\n",
    "\n",
    "    #Create statZone with 4 Gatti\n",
    "    def __init__(self,color):\n",
    "        self.color=color\n",
    "        self.items=4\n",
    "#        if(startZone.startZoneCount<=4):\n",
    "\n",
    "        while len(self.gattis)<16:\n",
    "            x=gatti(color)\n",
    "        \n",
    "        #self.gattis[color].add(gatti(color))\n",
    "        #print(x)\n",
    "            self.gattis.add(x)\n",
    "        #print(\"{} : {}\".format(x,x.color))\n",
    "\n",
    "            \n",
    "        \n",
    "#            startZone.startZoneCount+=1\n",
    "        \n",
    "    def addGatti(self,gattiObj):\n",
    "        if(self.items<4):\n",
    "            self.gattis.add(gattiObj)\n",
    "            self.items+=1\n",
    "\n",
    "\n",
    "    def removeGatti(self):\n",
    "        if(self.items>0):\n",
    "            self.items-=1\n",
    "            return(self.gattis.pop())\n",
    "\n",
    "    @classmethod\n",
    "    def getGattis(self, color):\n",
    "        gattis = set()\n",
    "        for gatti in startZone.gattis:\n",
    "            print(gatti)\n",
    "            if(gatti.color==color):\n",
    "                gattis.add(gatti)\n",
    "\n",
    "\n",
    "class homeZone:\n",
    "    items=0\n",
    "    gattis=set()\n",
    "\n",
    "    def __init__(self,color):\n",
    "        self.color=color\n",
    "\n",
    "    def addGatti(self,gattiObj):\n",
    "        self.items+=1\n",
    "        self.gattis.add(gattiObj)\n",
    "\n",
    "    def removeGatti(self,color):\n",
    "        self.items-=1\n",
    "        return(self.gattis.pop())    \n",
    " "
   ]
  },
  {
   "cell_type": "code",
   "execution_count": 11,
   "metadata": {},
   "outputs": [
    {
     "name": "stdout",
     "output_type": "stream",
     "text": [
      "0\n",
      "1\n",
      "2\n",
      "3\n"
     ]
    }
   ],
   "source": [
    "for color in colors:\n",
    "    print(color)"
   ]
  },
  {
   "cell_type": "code",
   "execution_count": 9,
   "metadata": {},
   "outputs": [
    {
     "name": "stdout",
     "output_type": "stream",
     "text": [
      "0\n",
      "1\n",
      "2\n",
      "3\n"
     ]
    }
   ],
   "source": [
    "startZones = dict()\n",
    "#highwayCells=[{} for]\n",
    "\n",
    "for color in colors:\n",
    "    print(color)\n",
    "    startZones[color]=startZone(color)"
   ]
  },
  {
   "cell_type": "code",
   "execution_count": 19,
   "metadata": {},
   "outputs": [],
   "source": []
  },
  {
   "cell_type": "code",
   "execution_count": 21,
   "metadata": {},
   "outputs": [
    {
     "name": "stdout",
     "output_type": "stream",
     "text": [
      "<__main__.gatti object at 0x000001E860770A08>\n",
      "<__main__.gatti object at 0x000001E860770E08>\n",
      "<__main__.gatti object at 0x000001E860770A48>\n",
      "<__main__.gatti object at 0x000001E860770048>\n",
      "<__main__.gatti object at 0x000001E860770248>\n",
      "<__main__.gatti object at 0x000001E860770888>\n",
      "<__main__.gatti object at 0x000001E860770288>\n",
      "<__main__.gatti object at 0x000001E8607700C8>\n",
      "<__main__.gatti object at 0x000001E860770AC8>\n",
      "<__main__.gatti object at 0x000001E860770908>\n",
      "<__main__.gatti object at 0x000001E860770DC8>\n",
      "<__main__.gatti object at 0x000001E860770948>\n",
      "<__main__.gatti object at 0x000001E860770348>\n",
      "<__main__.gatti object at 0x000001E860770148>\n",
      "<__main__.gatti object at 0x000001E860770388>\n",
      "<__main__.gatti object at 0x000001E8607707C8>\n",
      "None\n"
     ]
    }
   ],
   "source": [
    "print(startZone.getGattis(0))"
   ]
  },
  {
   "cell_type": "code",
   "execution_count": 27,
   "metadata": {},
   "outputs": [
    {
     "name": "stdout",
     "output_type": "stream",
     "text": [
      "<__main__.gatti object at 0x000001E8607700C8>\n",
      "<__main__.gatti object at 0x000001E860770948>\n",
      "<__main__.gatti object at 0x000001E860770348>\n",
      "<__main__.gatti object at 0x000001E8607707C8>\n"
     ]
    }
   ],
   "source": [
    "for i in startZone.gattis:\n",
    "    if(i.color==1):\n",
    "        print(i)"
   ]
  },
  {
   "cell_type": "code",
   "execution_count": 49,
   "metadata": {},
   "outputs": [
    {
     "data": {
      "text/plain": [
       "{<__main__.gatti at 0x15f5cb60048>,\n",
       " <__main__.gatti at 0x15f5cb603c8>,\n",
       " <__main__.gatti at 0x15f5cb60508>,\n",
       " <__main__.gatti at 0x15f5cb609c8>}"
      ]
     },
     "execution_count": 49,
     "metadata": {},
     "output_type": "execute_result"
    }
   ],
   "source": [
    "startZones[1].gattis"
   ]
  },
  {
   "cell_type": "code",
   "execution_count": 50,
   "metadata": {},
   "outputs": [
    {
     "data": {
      "text/plain": [
       "{<__main__.gatti at 0x15f5cb60048>,\n",
       " <__main__.gatti at 0x15f5cb603c8>,\n",
       " <__main__.gatti at 0x15f5cb60508>,\n",
       " <__main__.gatti at 0x15f5cb609c8>}"
      ]
     },
     "execution_count": 50,
     "metadata": {},
     "output_type": "execute_result"
    }
   ],
   "source": [
    "startZones[2].gattis"
   ]
  },
  {
   "cell_type": "code",
   "execution_count": 15,
   "metadata": {},
   "outputs": [
    {
     "data": {
      "text/plain": [
       "<__main__.gatti at 0x2461fe53108>"
      ]
     },
     "execution_count": 15,
     "metadata": {},
     "output_type": "execute_result"
    }
   ],
   "source": [
    "startZones[2].removeGatti()"
   ]
  },
  {
   "cell_type": "code",
   "execution_count": 52,
   "metadata": {},
   "outputs": [
    {
     "data": {
      "text/plain": [
       "4"
      ]
     },
     "execution_count": 52,
     "metadata": {},
     "output_type": "execute_result"
    }
   ],
   "source": [
    "gatti.gattiCount"
   ]
  }
 ],
 "metadata": {
  "kernelspec": {
   "display_name": "Python 3",
   "language": "python",
   "name": "python3"
  },
  "language_info": {
   "codemirror_mode": {
    "name": "ipython",
    "version": 3
   },
   "file_extension": ".py",
   "mimetype": "text/x-python",
   "name": "python",
   "nbconvert_exporter": "python",
   "pygments_lexer": "ipython3",
   "version": "3.7.7"
  }
 },
 "nbformat": 4,
 "nbformat_minor": 4
}
